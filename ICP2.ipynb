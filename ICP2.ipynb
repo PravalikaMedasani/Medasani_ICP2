{
  "nbformat": 4,
  "nbformat_minor": 0,
  "metadata": {
    "colab": {
      "provenance": [],
      "authorship_tag": "ABX9TyMKZjqin+Ra8dMpNMRbHb4A",
      "include_colab_link": true
    },
    "kernelspec": {
      "name": "python3",
      "display_name": "Python 3"
    },
    "language_info": {
      "name": "python"
    }
  },
  "cells": [
    {
      "cell_type": "markdown",
      "metadata": {
        "id": "view-in-github",
        "colab_type": "text"
      },
      "source": [
        "<a href=\"https://colab.research.google.com/github/PravalikaMedasani/Medasani_ICP2/blob/main/ICP2.ipynb\" target=\"_parent\"><img src=\"https://colab.research.google.com/assets/colab-badge.svg\" alt=\"Open In Colab\"/></a>"
      ]
    },
    {
      "cell_type": "code",
      "execution_count": null,
      "metadata": {
        "id": "HWz1zIgavLHT"
      },
      "outputs": [],
      "source": [
        "First_name = ( input(\"Your First Name : \"))\n",
        "last_name = (input(\"Your Last Name : \"))\n",
        "Full_Name = print(First_name + last_name)\n"
      ]
    },
    {
      "cell_type": "code",
      "source": [
        "def string_alternative(Str):\n",
        "    output = \"\"\n",
        "    for a in range(len(Str)):\n",
        "        if a % 2 == 0:\n",
        "            output += Str[a]\n",
        "    return output\n",
        "print(string_alternative(\"Good evening\"))\n"
      ],
      "metadata": {
        "id": "_5h5zECuvgrj"
      },
      "execution_count": null,
      "outputs": []
    },
    {
      "cell_type": "code",
      "source": [
        "file1 = open('input.txt', 'r')\n",
        "counts = dict()\n",
        "data = file1.read()\n",
        "words = data.split()\n",
        "for word in words:\n",
        "    if word in counts:\n",
        "        counts[word] += 1\n",
        "    else:\n",
        "        counts[word] = 1\n",
        "print(counts)\n",
        "\n",
        "\n",
        "f = open('output.txt', 'w')\n",
        "f.write(data)\n",
        "f.write('\\nword_count:\\n')\n",
        "for key, value in counts.items():\n",
        "    f.write(f\"{key}: {value}\\n\")\n",
        "f.close()\n"
      ],
      "metadata": {
        "id": "MiD1xR9WvmUb"
      },
      "execution_count": null,
      "outputs": []
    },
    {
      "cell_type": "code",
      "source": [
        "L1=list(map(float,input().split()))\n",
        "L2=[]\n",
        "for x in L1:\n",
        "    x=x*2.54\n",
        "    L2.append(x)\n",
        "print(L2)\n"
      ],
      "metadata": {
        "id": "43v8FEAuv6hu"
      },
      "execution_count": null,
      "outputs": []
    },
    {
      "cell_type": "code",
      "source": [
        "L1=list(map(float,input().split()))\n",
        "L2=[x*2.54 for x in L1]\n",
        "print(L2)\n"
      ],
      "metadata": {
        "id": "ZA97RxBWv_ZT"
      },
      "execution_count": null,
      "outputs": []
    }
  ]
}